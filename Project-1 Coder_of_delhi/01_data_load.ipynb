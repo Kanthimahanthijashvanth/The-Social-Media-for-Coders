{
 "cells": [
  {
   "cell_type": "code",
   "execution_count": 9,
   "id": "e7ec32b6-1d88-4e69-9b41-a99f167551aa",
   "metadata": {},
   "outputs": [
    {
     "name": "stdout",
     "output_type": "stream",
     "text": [
      "Users And Their Details\n",
      "ID : 1 - Name : Amit - Friends : [2, 3] - Liked Pages : [101]\n",
      "ID : 2 - Name : Priya - Friends : [1, 4] - Liked Pages : [102]\n",
      "ID : 3 - Name : Rahul - Friends : [1] - Liked Pages : [101, 103]\n",
      "ID : 4 - Name : Sara - Friends : [2] - Liked Pages : [104]\n",
      "\n",
      "Pages\n",
      "\n",
      "Id : 101 - Name : Python Developers\n",
      "Id : 102 - Name : Data Science Enthusiasts\n",
      "Id : 103 - Name : AI & ML Community\n",
      "Id : 104 - Name : Web Dev Hub\n"
     ]
    }
   ],
   "source": [
    "import json\n",
    "\n",
    "\n",
    "def load_Data(filename):\n",
    "    with open(filename, \"r\") as file:  \n",
    "        data = json.load(file)\n",
    "    return data\n",
    "\n",
    "\n",
    "def display_user(data):\n",
    "    print(\"Users And Their Details\")\n",
    "    for user in data[\"users\"]:\n",
    "        print(f\"ID : {user['id']} - Name : {user['name']} - Friends : {user['friends']} - Liked Pages : {user['liked_pages']}\")\n",
    "\n",
    "    print(\"\\nPages\\n\")\n",
    "    for page in data[\"pages\"]:\n",
    "        print(f\"Id : {page['id']} - Name : {page['name']}\")  \n",
    "\n",
    "details = load_Data(\"codebook.json\") \n",
    "display_user(details)\n",
    "\n",
    "    \n",
    "        \n",
    "        "
   ]
  },
  {
   "cell_type": "code",
   "execution_count": null,
   "id": "3699d863-f821-4193-8baa-5cdb87d5275c",
   "metadata": {},
   "outputs": [],
   "source": []
  },
  {
   "cell_type": "code",
   "execution_count": null,
   "id": "95dda87a-6fff-453d-88ec-f0ccb3227872",
   "metadata": {},
   "outputs": [],
   "source": []
  }
 ],
 "metadata": {
  "kernelspec": {
   "display_name": "Python 3 (ipykernel)",
   "language": "python",
   "name": "python3"
  },
  "language_info": {
   "codemirror_mode": {
    "name": "ipython",
    "version": 3
   },
   "file_extension": ".py",
   "mimetype": "text/x-python",
   "name": "python",
   "nbconvert_exporter": "python",
   "pygments_lexer": "ipython3",
   "version": "3.12.7"
  }
 },
 "nbformat": 4,
 "nbformat_minor": 5
}
