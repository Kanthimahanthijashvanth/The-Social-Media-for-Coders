{
 "cells": [
  {
   "cell_type": "code",
   "execution_count": 9,
   "id": "8ceacf84-9674-443f-b9b0-22215db134b0",
   "metadata": {},
   "outputs": [
    {
     "name": "stdout",
     "output_type": "stream",
     "text": [
      "Data Has been Uploaded\n"
     ]
    }
   ],
   "source": [
    "import json\n",
    "def clean_data(data):\n",
    "    #remove user with missing namers\n",
    "    data['users'] = [user for user in data[\"users\"] if user[\"name\"].strip()]\n",
    "   #remove duplicate friends\n",
    "    for user in data[\"users\"]:\n",
    "        user['friends'] = list(set(user['friends']))\n",
    "#remove inactive user\n",
    "    data['users'] = [user for user in data['users'] if user['friends'] or user['liked_pages']]\n",
    "        \n",
    "    \n",
    "\n",
    "#remove duplicate pages\n",
    "    unique_pages = {}\n",
    "    for page in data[\"pages\"]:\n",
    "        unique_pages[page[\"id\"]] = page\n",
    "    data[\"pages\"] = list(unique_pages.values())\n",
    "    \n",
    "    return data\n",
    "    \n",
    "data = json.load(open(\"data2.json\"))\n",
    "\n",
    "data = clean_data(data)\n",
    "json.dump(data , open(\"cleaned_data2.json\" , \"w\"),indent =4)\n",
    "print(\"Data Has been Uploaded\")"
   ]
  },
  {
   "cell_type": "code",
   "execution_count": null,
   "id": "511ba567-a11e-468a-a0c2-45a484fcccda",
   "metadata": {},
   "outputs": [],
   "source": []
  },
  {
   "cell_type": "code",
   "execution_count": null,
   "id": "fdb80176-e317-4af8-ab89-ad7995565304",
   "metadata": {},
   "outputs": [],
   "source": []
  },
  {
   "cell_type": "code",
   "execution_count": null,
   "id": "74313265-06dc-403b-ad70-80c7486ab487",
   "metadata": {},
   "outputs": [],
   "source": []
  }
 ],
 "metadata": {
  "kernelspec": {
   "display_name": "Python 3 (ipykernel)",
   "language": "python",
   "name": "python3"
  },
  "language_info": {
   "codemirror_mode": {
    "name": "ipython",
    "version": 3
   },
   "file_extension": ".py",
   "mimetype": "text/x-python",
   "name": "python",
   "nbconvert_exporter": "python",
   "pygments_lexer": "ipython3",
   "version": "3.12.7"
  }
 },
 "nbformat": 4,
 "nbformat_minor": 5
}
